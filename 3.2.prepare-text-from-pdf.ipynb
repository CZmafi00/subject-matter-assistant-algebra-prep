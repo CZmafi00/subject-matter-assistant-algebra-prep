{
 "cells": [
  {
   "cell_type": "code",
   "execution_count": 5,
   "id": "62a36949-0510-4e88-a24f-0f7545b66f4f",
   "metadata": {},
   "outputs": [],
   "source": [
    "#!pip install PyPDF2\n",
    "#!pip install PyPDF2[image]"
   ]
  },
  {
   "cell_type": "code",
   "execution_count": 10,
   "id": "24b1f789-79c4-43e1-85f8-82227b6ee35b",
   "metadata": {
    "editable": true,
    "slideshow": {
     "slide_type": ""
    },
    "tags": []
   },
   "outputs": [],
   "source": [
    "from PyPDF2 import PdfReader\n",
    "import os"
   ]
  },
  {
   "cell_type": "code",
   "execution_count": 11,
   "id": "3ac698a4-1d29-404e-b193-feb50df8bb46",
   "metadata": {
    "editable": true,
    "slideshow": {
     "slide_type": ""
    },
    "tags": []
   },
   "outputs": [],
   "source": [
    "def extract_text_from_pdf(pdf_file):\n",
    "    \"\"\"\n",
    "    Extracts text content from a PDF file.\n",
    "\n",
    "    Parameters:\n",
    "    - pdf_file (str): The path to the PDF file.\n",
    "\n",
    "    Returns:\n",
    "    - str: The extracted text content from the PDF.\n",
    "\n",
    "    Example:\n",
    "    >>> pdf_text = extract_text_from_pdf('example.pdf')\n",
    "    >>> print(pdf_text)\n",
    "    'This is the extracted text from the PDF file.'\n",
    "\n",
    "    Dependencies:\n",
    "    - PyMuPDF (MuPDF) library for PDF processing.\n",
    "\n",
    "    Note:\n",
    "    Ensure that the PyMuPDF library is installed before using this function.\n",
    "    You can install it using: `pip install pymupdf`\n",
    "    \"\"\"\n",
    "    text_output = \"\"\n",
    "    \n",
    "    reader = PdfReader(pdf_file)\n",
    "    number_of_pages = len(reader.pages)\n",
    "\n",
    "    for i in range(number_of_pages):\n",
    "        text_output += reader.pages[i].extract_text()\n",
    "\n",
    "    return text_output"
   ]
  },
  {
   "cell_type": "code",
   "execution_count": 17,
   "id": "af886d69-1661-4193-b466-b09b4ffe85e6",
   "metadata": {},
   "outputs": [],
   "source": [
    "data_folder_path = \"./data-pdf\"\n",
    "clean_txt_folder_path = \"./data-clean\"\n",
    "\n",
    "for filename in os.listdir(data_folder_path):\n",
    "    try:\n",
    "        if os.path.isfile(os.path.join(data_folder_path, filename)):\n",
    "            # read .pdf data\n",
    "            text = extract_text_from_pdf(f\"{data_folder_path}/{filename}\")\n",
    "            txt_file_name = f\"{clean_txt_folder_path}/{filename}.txt\"\n",
    "\n",
    "            # save text to file\n",
    "            with open(txt_file_name, \"w\") as file:\n",
    "                file.write(text)\n",
    "\n",
    "    except Exception as e:\n",
    "        print(f\"Error with {filename} - {e}\")        "
   ]
  }
 ],
 "metadata": {
  "kernelspec": {
   "display_name": "Python 3 (ipykernel)",
   "language": "python",
   "name": "python3"
  },
  "language_info": {
   "codemirror_mode": {
    "name": "ipython",
    "version": 3
   },
   "file_extension": ".py",
   "mimetype": "text/x-python",
   "name": "python",
   "nbconvert_exporter": "python",
   "pygments_lexer": "ipython3",
   "version": "3.11.6"
  }
 },
 "nbformat": 4,
 "nbformat_minor": 5
}
