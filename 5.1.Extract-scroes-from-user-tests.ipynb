{
 "cells": [
  {
   "cell_type": "code",
   "execution_count": 15,
   "id": "88eb2709-9e6a-4bb0-a25c-e837fc955b7f",
   "metadata": {},
   "outputs": [],
   "source": [
    "import csv\n",
    "import os"
   ]
  },
  {
   "cell_type": "code",
   "execution_count": 24,
   "id": "a393777f-e778-44f7-ac7f-e46029cc9cb9",
   "metadata": {},
   "outputs": [],
   "source": [
    "def extract_scores(input_file):\n",
    "    scores_lines = [10, 14, 19, 23, 28, 32, 36]\n",
    "    scores = []\n",
    "    \n",
    "    with open(input_file, 'r') as txtfile:\n",
    "        lines = txtfile.readlines()\n",
    "        for line_number in scores_lines:\n",
    "            score = lines[line_number].strip()\n",
    "            scores.append(score)\n",
    "    \n",
    "    return ';'.join(scores)"
   ]
  },
  {
   "cell_type": "code",
   "execution_count": 43,
   "id": "0bb8a27c-1d1c-45d3-8927-fa84f543bce6",
   "metadata": {},
   "outputs": [],
   "source": [
    "def save_array_to_csv(array, output_file):\n",
    "    with open(output_file, 'w') as csvfile:\n",
    "        for line in array:\n",
    "            csvfile.write(line)\n",
    "            csvfile.write('\\n')"
   ]
  },
  {
   "cell_type": "code",
   "execution_count": 46,
   "id": "55806732-c530-4bcd-b03f-ee41bba6b06a",
   "metadata": {},
   "outputs": [],
   "source": [
    "def create_header():\n",
    "    return 'halucinations;punctuality;relevance;grammar;comprehension;logical_errors;overall'"
   ]
  },
  {
   "cell_type": "code",
   "execution_count": 47,
   "id": "0b5b8644-e0a5-49f0-b478-8a140f4b6b43",
   "metadata": {},
   "outputs": [],
   "source": [
    "directory = './scores'\n",
    "raws = []\n",
    "raws.append(create_header())\n",
    "\n",
    "txt_files = [file for file in os.listdir(directory) if file.endswith('.txt')]\n",
    "for txt_file in txt_files:\n",
    "    input_file = os.path.join(directory, txt_file)\n",
    "    raws.append(extract_scores(input_file))"
   ]
  },
  {
   "cell_type": "code",
   "execution_count": 48,
   "id": "64a327a0-27bc-4afa-abd0-e021e60f0e30",
   "metadata": {},
   "outputs": [],
   "source": [
    "save_array_to_csv(raws, './scores/scores.csv')"
   ]
  }
 ],
 "metadata": {
  "kernelspec": {
   "display_name": "Python 3 (ipykernel)",
   "language": "python",
   "name": "python3"
  },
  "language_info": {
   "codemirror_mode": {
    "name": "ipython",
    "version": 3
   },
   "file_extension": ".py",
   "mimetype": "text/x-python",
   "name": "python",
   "nbconvert_exporter": "python",
   "pygments_lexer": "ipython3",
   "version": "3.11.6"
  }
 },
 "nbformat": 4,
 "nbformat_minor": 5
}
